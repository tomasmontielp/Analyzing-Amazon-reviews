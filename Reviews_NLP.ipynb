{
 "cells": [
  {
   "cell_type": "markdown",
   "metadata": {},
   "source": [
    "# Retrieving and analyzing E-commerce reviews (NLP)\n",
    "\n",
    "### Motivation:\n",
    "\n",
    "E-commerce is a fast-growing business, with the COVID-19 pandemic only accelerating their establishment in the societies. In this sense, companies such as Amazon, Alibaba, eBay, Best buy, etc., offer millions of products on their website, which can be bought and shipped to your house with a couple of clicks. \n",
    "\n",
    "Customers frequently rate these products (typically from 1 to 5), with the mean review score readily available for the user and seller. Then, the average review score gives a quick indication of how good the customers think the product is. Nevertheless, that number doesn't provide much more insight into why the users are highly/poorly rating the item or what they like (or don't) about the product. This information could be gathered by reading each review, but it would be time-consuming, especially on products with thousands of reviews. \n",
    "\n",
    "Thus, **the goal of this project** is to develop a tool that automatically retrieves the most frequently used words in positive and negative reviews. This tool will help the seller find the attributes that need improvement and those that have to maintain the quality. On the other hand, the tool can give customers a quick idea of what to watch out for during the free-return days."
   ]
  },
  {
   "cell_type": "markdown",
   "metadata": {},
   "source": [
    "### Project structure\n",
    "\n",
    "This work will focus on Amazon's reviews on renewed/refurbished iPhones, as renewed smartphones are prone to positive and negative reviews. Specifically, an analysis is made on the iPhone X, XR, and 11 reviews, checking the pros and cons of each product's customer perspective. Then, the benefits and problems developed throughout each product are presented. Lastly, all the reviews are merged, and a sentiment analysis model is developed.\n",
    "\n",
    "To do so, the project was split into two parts:\n",
    "\n",
    "**Part I**\n",
    "\n",
    "* Exploring amazon website to retrieve the desired reviews into databases, employing BeautifulSoup as a web scraper, together with Docker and Splash.\n",
    "\n",
    "**Part II**\n",
    "\n",
    "* Clean, organize, and analyze the reviews, drawing conclusions from the most frequently used words in positive and negative reviews.\n",
    "* Develop a sentiment analysis tool\n",
    "\n",
    "The script \"reviews_scraper.py\" for obtaining the reviews (Part I) is available at:\n",
    "\n",
    "https://github.com/tomasmontielp/Retrieving_and_analyzing_E-commerce_reviews\n",
    "\n",
    "This notebook focuses on Part II of the project."
   ]
  },
  {
   "cell_type": "markdown",
   "metadata": {},
   "source": [
    "### Exploratory analysis"
   ]
  },
  {
   "cell_type": "code",
   "execution_count": 1,
   "metadata": {},
   "outputs": [],
   "source": [
    "import pandas as pd\n",
    "import numpy as np"
   ]
  },
  {
   "cell_type": "markdown",
   "metadata": {},
   "source": [
    "In Part I, reviews were extracted from Amazon's website and saved into .xlsx files.  Let's import each dataset:"
   ]
  },
  {
   "cell_type": "code",
   "execution_count": 2,
   "metadata": {},
   "outputs": [],
   "source": [
    "iX=pd.read_excel(r'C:\\Users\\tomas\\OneDrive - UPV\\Data_Science\\Projects\\Amazon\\iphone_X.xlsx')\n",
    "iXR=pd.read_excel(r'C:\\Users\\tomas\\OneDrive - UPV\\Data_Science\\Projects\\Amazon\\iphone_XR.xlsx')\n",
    "i11=pd.read_excel(r'C:\\Users\\tomas\\OneDrive - UPV\\Data_Science\\Projects\\Amazon\\iphone_11.xlsx')\n"
   ]
  },
  {
   "cell_type": "markdown",
   "metadata": {},
   "source": [
    "Let's take a look at each dataset and ensure we have the expected product:"
   ]
  },
  {
   "cell_type": "code",
   "execution_count": 3,
   "metadata": {
    "scrolled": true
   },
   "outputs": [
    {
     "data": {
      "text/html": [
       "<div>\n",
       "<style scoped>\n",
       "    .dataframe tbody tr th:only-of-type {\n",
       "        vertical-align: middle;\n",
       "    }\n",
       "\n",
       "    .dataframe tbody tr th {\n",
       "        vertical-align: top;\n",
       "    }\n",
       "\n",
       "    .dataframe thead th {\n",
       "        text-align: right;\n",
       "    }\n",
       "</style>\n",
       "<table border=\"1\" class=\"dataframe\">\n",
       "  <thead>\n",
       "    <tr style=\"text-align: right;\">\n",
       "      <th></th>\n",
       "      <th>product</th>\n",
       "      <th>title</th>\n",
       "      <th>rating</th>\n",
       "      <th>body</th>\n",
       "    </tr>\n",
       "  </thead>\n",
       "  <tbody>\n",
       "    <tr>\n",
       "      <th>0</th>\n",
       "      <td>Apple iPhone X</td>\n",
       "      <td>THIS PHONE WAS NOT PAYED OFF</td>\n",
       "      <td>1</td>\n",
       "      <td>I purchased a refurbished iPhone x, it arrived...</td>\n",
       "    </tr>\n",
       "    <tr>\n",
       "      <th>1</th>\n",
       "      <td>Apple iPhone X</td>\n",
       "      <td>Cracked and does not turn on.</td>\n",
       "      <td>1</td>\n",
       "      <td>The screen was cracked and the phone did not t...</td>\n",
       "    </tr>\n",
       "    <tr>\n",
       "      <th>2</th>\n",
       "      <td>Apple iPhone X</td>\n",
       "      <td>Don't buy from this seller.</td>\n",
       "      <td>1</td>\n",
       "      <td>This product is falsely labeled as unlocked, i...</td>\n",
       "    </tr>\n",
       "  </tbody>\n",
       "</table>\n",
       "</div>"
      ],
      "text/plain": [
       "          product                          title  rating  \\\n",
       "0  Apple iPhone X   THIS PHONE WAS NOT PAYED OFF       1   \n",
       "1  Apple iPhone X  Cracked and does not turn on.       1   \n",
       "2  Apple iPhone X    Don't buy from this seller.       1   \n",
       "\n",
       "                                                body  \n",
       "0  I purchased a refurbished iPhone x, it arrived...  \n",
       "1  The screen was cracked and the phone did not t...  \n",
       "2  This product is falsely labeled as unlocked, i...  "
      ]
     },
     "execution_count": 3,
     "metadata": {},
     "output_type": "execute_result"
    }
   ],
   "source": [
    "iX.head(3)"
   ]
  },
  {
   "cell_type": "code",
   "execution_count": 4,
   "metadata": {},
   "outputs": [
    {
     "data": {
      "text/html": [
       "<div>\n",
       "<style scoped>\n",
       "    .dataframe tbody tr th:only-of-type {\n",
       "        vertical-align: middle;\n",
       "    }\n",
       "\n",
       "    .dataframe tbody tr th {\n",
       "        vertical-align: top;\n",
       "    }\n",
       "\n",
       "    .dataframe thead th {\n",
       "        text-align: right;\n",
       "    }\n",
       "</style>\n",
       "<table border=\"1\" class=\"dataframe\">\n",
       "  <thead>\n",
       "    <tr style=\"text-align: right;\">\n",
       "      <th></th>\n",
       "      <th>product</th>\n",
       "      <th>title</th>\n",
       "      <th>rating</th>\n",
       "      <th>body</th>\n",
       "    </tr>\n",
       "  </thead>\n",
       "  <tbody>\n",
       "    <tr>\n",
       "      <th>0</th>\n",
       "      <td>Apple iPhone XR</td>\n",
       "      <td>Great!</td>\n",
       "      <td>4</td>\n",
       "      <td>It took a little while for it to arrive. But o...</td>\n",
       "    </tr>\n",
       "    <tr>\n",
       "      <th>1</th>\n",
       "      <td>Apple iPhone XR</td>\n",
       "      <td>DO NOT WASTE YOUR MONEY ON THIS PHONE</td>\n",
       "      <td>1</td>\n",
       "      <td>PLEASE DO NOT BUY THIS PHONE. They say that th...</td>\n",
       "    </tr>\n",
       "    <tr>\n",
       "      <th>2</th>\n",
       "      <td>Apple iPhone XR</td>\n",
       "      <td>It sucks</td>\n",
       "      <td>1</td>\n",
       "      <td>World's worst thing ever never get on this its...</td>\n",
       "    </tr>\n",
       "  </tbody>\n",
       "</table>\n",
       "</div>"
      ],
      "text/plain": [
       "           product                                  title  rating  \\\n",
       "0  Apple iPhone XR                                 Great!       4   \n",
       "1  Apple iPhone XR  DO NOT WASTE YOUR MONEY ON THIS PHONE       1   \n",
       "2  Apple iPhone XR                               It sucks       1   \n",
       "\n",
       "                                                body  \n",
       "0  It took a little while for it to arrive. But o...  \n",
       "1  PLEASE DO NOT BUY THIS PHONE. They say that th...  \n",
       "2  World's worst thing ever never get on this its...  "
      ]
     },
     "execution_count": 4,
     "metadata": {},
     "output_type": "execute_result"
    }
   ],
   "source": [
    "iXR.head(3)"
   ]
  },
  {
   "cell_type": "code",
   "execution_count": 5,
   "metadata": {},
   "outputs": [
    {
     "data": {
      "text/html": [
       "<div>\n",
       "<style scoped>\n",
       "    .dataframe tbody tr th:only-of-type {\n",
       "        vertical-align: middle;\n",
       "    }\n",
       "\n",
       "    .dataframe tbody tr th {\n",
       "        vertical-align: top;\n",
       "    }\n",
       "\n",
       "    .dataframe thead th {\n",
       "        text-align: right;\n",
       "    }\n",
       "</style>\n",
       "<table border=\"1\" class=\"dataframe\">\n",
       "  <thead>\n",
       "    <tr style=\"text-align: right;\">\n",
       "      <th></th>\n",
       "      <th>product</th>\n",
       "      <th>title</th>\n",
       "      <th>rating</th>\n",
       "      <th>body</th>\n",
       "    </tr>\n",
       "  </thead>\n",
       "  <tbody>\n",
       "    <tr>\n",
       "      <th>0</th>\n",
       "      <td>Apple iPhone 11</td>\n",
       "      <td>Not FULLY Unlocked</td>\n",
       "      <td>1</td>\n",
       "      <td>Purchased this product advertised as fully unl...</td>\n",
       "    </tr>\n",
       "    <tr>\n",
       "      <th>1</th>\n",
       "      <td>Apple iPhone 11</td>\n",
       "      <td>NOT EXPECTED, GREAT PURCHASE!</td>\n",
       "      <td>4</td>\n",
       "      <td>I was feeling a bit skeptical after I placed m...</td>\n",
       "    </tr>\n",
       "    <tr>\n",
       "      <th>2</th>\n",
       "      <td>Apple iPhone 11</td>\n",
       "      <td>Phone was NOT unlocked</td>\n",
       "      <td>1</td>\n",
       "      <td>Phone was not unlocked could it use it</td>\n",
       "    </tr>\n",
       "  </tbody>\n",
       "</table>\n",
       "</div>"
      ],
      "text/plain": [
       "           product                          title  rating  \\\n",
       "0  Apple iPhone 11             Not FULLY Unlocked       1   \n",
       "1  Apple iPhone 11  NOT EXPECTED, GREAT PURCHASE!       4   \n",
       "2  Apple iPhone 11         Phone was NOT unlocked       1   \n",
       "\n",
       "                                                body  \n",
       "0  Purchased this product advertised as fully unl...  \n",
       "1  I was feeling a bit skeptical after I placed m...  \n",
       "2             Phone was not unlocked could it use it  "
      ]
     },
     "execution_count": 5,
     "metadata": {},
     "output_type": "execute_result"
    }
   ],
   "source": [
    "i11.head(3)"
   ]
  },
  {
   "cell_type": "code",
   "execution_count": 6,
   "metadata": {},
   "outputs": [
    {
     "data": {
      "text/plain": [
       "array(['Apple iPhone X'], dtype=object)"
      ]
     },
     "execution_count": 6,
     "metadata": {},
     "output_type": "execute_result"
    }
   ],
   "source": [
    "iX['product'].unique()"
   ]
  },
  {
   "cell_type": "code",
   "execution_count": 7,
   "metadata": {},
   "outputs": [
    {
     "data": {
      "text/plain": [
       "array(['Apple iPhone XR'], dtype=object)"
      ]
     },
     "execution_count": 7,
     "metadata": {},
     "output_type": "execute_result"
    }
   ],
   "source": [
    "iXR['product'].unique()"
   ]
  },
  {
   "cell_type": "code",
   "execution_count": 8,
   "metadata": {},
   "outputs": [
    {
     "data": {
      "text/plain": [
       "array(['Apple iPhone 11'], dtype=object)"
      ]
     },
     "execution_count": 8,
     "metadata": {},
     "output_type": "execute_result"
    }
   ],
   "source": [
    "i11['product'].unique()"
   ]
  },
  {
   "cell_type": "markdown",
   "metadata": {},
   "source": [
    "Everything seems ok. We can see that there's a column for the title of the review, the rating, and then de body of the review. Since all the databases have the same structure, let's merge them to apply each text mining function all at once. The new database will be called rev."
   ]
  },
  {
   "cell_type": "code",
   "execution_count": 9,
   "metadata": {},
   "outputs": [],
   "source": [
    "rev = pd.concat([iX, iXR, i11], ignore_index=True)"
   ]
  },
  {
   "cell_type": "markdown",
   "metadata": {},
   "source": [
    "Let's confirm that the length of the new database is equal to the sum of the parts:"
   ]
  },
  {
   "cell_type": "code",
   "execution_count": 10,
   "metadata": {},
   "outputs": [
    {
     "data": {
      "text/plain": [
       "True"
      ]
     },
     "execution_count": 10,
     "metadata": {},
     "output_type": "execute_result"
    }
   ],
   "source": [
    "len(iX)  + len(iXR) + len(i11) == len(rev) "
   ]
  },
  {
   "cell_type": "markdown",
   "metadata": {},
   "source": [
    "## Text mining"
   ]
  },
  {
   "cell_type": "markdown",
   "metadata": {},
   "source": [
    "#### NaN values\n",
    "\n",
    "Initially, it is good to check for any NaN values, as it is better to replace them with whitespaces when employing NLP libraries."
   ]
  },
  {
   "cell_type": "code",
   "execution_count": 11,
   "metadata": {},
   "outputs": [
    {
     "data": {
      "text/plain": [
       "True"
      ]
     },
     "execution_count": 11,
     "metadata": {},
     "output_type": "execute_result"
    }
   ],
   "source": [
    "rev.isnull().values.any()"
   ]
  },
  {
   "cell_type": "markdown",
   "metadata": {},
   "source": [
    "Let's find and replace the NaN values:"
   ]
  },
  {
   "cell_type": "code",
   "execution_count": 12,
   "metadata": {},
   "outputs": [
    {
     "data": {
      "text/html": [
       "<div>\n",
       "<style scoped>\n",
       "    .dataframe tbody tr th:only-of-type {\n",
       "        vertical-align: middle;\n",
       "    }\n",
       "\n",
       "    .dataframe tbody tr th {\n",
       "        vertical-align: top;\n",
       "    }\n",
       "\n",
       "    .dataframe thead th {\n",
       "        text-align: right;\n",
       "    }\n",
       "</style>\n",
       "<table border=\"1\" class=\"dataframe\">\n",
       "  <thead>\n",
       "    <tr style=\"text-align: right;\">\n",
       "      <th></th>\n",
       "      <th>product</th>\n",
       "      <th>title</th>\n",
       "      <th>rating</th>\n",
       "      <th>body</th>\n",
       "    </tr>\n",
       "  </thead>\n",
       "  <tbody>\n",
       "    <tr>\n",
       "      <th>1838</th>\n",
       "      <td>Apple iPhone X</td>\n",
       "      <td>Very good phone</td>\n",
       "      <td>5</td>\n",
       "      <td>NaN</td>\n",
       "    </tr>\n",
       "    <tr>\n",
       "      <th>1861</th>\n",
       "      <td>Apple iPhone X</td>\n",
       "      <td>The phone is in good condition</td>\n",
       "      <td>4</td>\n",
       "      <td>NaN</td>\n",
       "    </tr>\n",
       "    <tr>\n",
       "      <th>2087</th>\n",
       "      <td>Apple iPhone X</td>\n",
       "      <td>It works in Japan(!)</td>\n",
       "      <td>5</td>\n",
       "      <td>NaN</td>\n",
       "    </tr>\n",
       "    <tr>\n",
       "      <th>3400</th>\n",
       "      <td>Apple iPhone XR</td>\n",
       "      <td>Everything we expected</td>\n",
       "      <td>5</td>\n",
       "      <td>NaN</td>\n",
       "    </tr>\n",
       "    <tr>\n",
       "      <th>3429</th>\n",
       "      <td>Apple iPhone XR</td>\n",
       "      <td>NaN</td>\n",
       "      <td>5</td>\n",
       "      <td>Its like new</td>\n",
       "    </tr>\n",
       "    <tr>\n",
       "      <th>3471</th>\n",
       "      <td>Apple iPhone XR</td>\n",
       "      <td>NaN</td>\n",
       "      <td>2</td>\n",
       "      <td>Screen Sensibility is poor</td>\n",
       "    </tr>\n",
       "    <tr>\n",
       "      <th>3637</th>\n",
       "      <td>Apple iPhone XR</td>\n",
       "      <td>NaN</td>\n",
       "      <td>5</td>\n",
       "      <td>NaN</td>\n",
       "    </tr>\n",
       "    <tr>\n",
       "      <th>3762</th>\n",
       "      <td>Apple iPhone XR</td>\n",
       "      <td>Excelente</td>\n",
       "      <td>5</td>\n",
       "      <td>NaN</td>\n",
       "    </tr>\n",
       "    <tr>\n",
       "      <th>3806</th>\n",
       "      <td>Apple iPhone XR</td>\n",
       "      <td>NaN</td>\n",
       "      <td>5</td>\n",
       "      <td>It was fully unlocked I loved it.</td>\n",
       "    </tr>\n",
       "    <tr>\n",
       "      <th>5279</th>\n",
       "      <td>Apple iPhone 11</td>\n",
       "      <td>Happy</td>\n",
       "      <td>5</td>\n",
       "      <td>NaN</td>\n",
       "    </tr>\n",
       "    <tr>\n",
       "      <th>5280</th>\n",
       "      <td>Apple iPhone 11</td>\n",
       "      <td>ESTA SUPER</td>\n",
       "      <td>5</td>\n",
       "      <td>NaN</td>\n",
       "    </tr>\n",
       "    <tr>\n",
       "      <th>5329</th>\n",
       "      <td>Apple iPhone 11</td>\n",
       "      <td>otima compra</td>\n",
       "      <td>5</td>\n",
       "      <td>NaN</td>\n",
       "    </tr>\n",
       "  </tbody>\n",
       "</table>\n",
       "</div>"
      ],
      "text/plain": [
       "              product                           title  rating  \\\n",
       "1838   Apple iPhone X                 Very good phone       5   \n",
       "1861   Apple iPhone X  The phone is in good condition       4   \n",
       "2087   Apple iPhone X            It works in Japan(!)       5   \n",
       "3400  Apple iPhone XR          Everything we expected       5   \n",
       "3429  Apple iPhone XR                             NaN       5   \n",
       "3471  Apple iPhone XR                             NaN       2   \n",
       "3637  Apple iPhone XR                             NaN       5   \n",
       "3762  Apple iPhone XR                       Excelente       5   \n",
       "3806  Apple iPhone XR                             NaN       5   \n",
       "5279  Apple iPhone 11                           Happy       5   \n",
       "5280  Apple iPhone 11                      ESTA SUPER       5   \n",
       "5329  Apple iPhone 11                    otima compra       5   \n",
       "\n",
       "                                   body  \n",
       "1838                                NaN  \n",
       "1861                                NaN  \n",
       "2087                                NaN  \n",
       "3400                                NaN  \n",
       "3429                       Its like new  \n",
       "3471         Screen Sensibility is poor  \n",
       "3637                                NaN  \n",
       "3762                                NaN  \n",
       "3806  It was fully unlocked I loved it.  \n",
       "5279                                NaN  \n",
       "5280                                NaN  \n",
       "5329                                NaN  "
      ]
     },
     "execution_count": 12,
     "metadata": {},
     "output_type": "execute_result"
    }
   ],
   "source": [
    "is_NaN = rev.isnull()\n",
    "row_has_NaN = is_NaN.any(axis=1)\n",
    "rows_with_NaN = rev[row_has_NaN]\n",
    "rows_with_NaN"
   ]
  },
  {
   "cell_type": "code",
   "execution_count": 13,
   "metadata": {},
   "outputs": [
    {
     "data": {
      "text/html": [
       "<div>\n",
       "<style scoped>\n",
       "    .dataframe tbody tr th:only-of-type {\n",
       "        vertical-align: middle;\n",
       "    }\n",
       "\n",
       "    .dataframe tbody tr th {\n",
       "        vertical-align: top;\n",
       "    }\n",
       "\n",
       "    .dataframe thead th {\n",
       "        text-align: right;\n",
       "    }\n",
       "</style>\n",
       "<table border=\"1\" class=\"dataframe\">\n",
       "  <thead>\n",
       "    <tr style=\"text-align: right;\">\n",
       "      <th></th>\n",
       "      <th>product</th>\n",
       "      <th>title</th>\n",
       "      <th>rating</th>\n",
       "      <th>body</th>\n",
       "    </tr>\n",
       "  </thead>\n",
       "  <tbody>\n",
       "    <tr>\n",
       "      <th>1838</th>\n",
       "      <td>Apple iPhone X</td>\n",
       "      <td>Very good phone</td>\n",
       "      <td>5</td>\n",
       "      <td></td>\n",
       "    </tr>\n",
       "    <tr>\n",
       "      <th>1861</th>\n",
       "      <td>Apple iPhone X</td>\n",
       "      <td>The phone is in good condition</td>\n",
       "      <td>4</td>\n",
       "      <td></td>\n",
       "    </tr>\n",
       "    <tr>\n",
       "      <th>2087</th>\n",
       "      <td>Apple iPhone X</td>\n",
       "      <td>It works in Japan(!)</td>\n",
       "      <td>5</td>\n",
       "      <td></td>\n",
       "    </tr>\n",
       "    <tr>\n",
       "      <th>3400</th>\n",
       "      <td>Apple iPhone XR</td>\n",
       "      <td>Everything we expected</td>\n",
       "      <td>5</td>\n",
       "      <td></td>\n",
       "    </tr>\n",
       "    <tr>\n",
       "      <th>3429</th>\n",
       "      <td>Apple iPhone XR</td>\n",
       "      <td></td>\n",
       "      <td>5</td>\n",
       "      <td>Its like new</td>\n",
       "    </tr>\n",
       "    <tr>\n",
       "      <th>3471</th>\n",
       "      <td>Apple iPhone XR</td>\n",
       "      <td></td>\n",
       "      <td>2</td>\n",
       "      <td>Screen Sensibility is poor</td>\n",
       "    </tr>\n",
       "    <tr>\n",
       "      <th>3637</th>\n",
       "      <td>Apple iPhone XR</td>\n",
       "      <td></td>\n",
       "      <td>5</td>\n",
       "      <td></td>\n",
       "    </tr>\n",
       "    <tr>\n",
       "      <th>3762</th>\n",
       "      <td>Apple iPhone XR</td>\n",
       "      <td>Excelente</td>\n",
       "      <td>5</td>\n",
       "      <td></td>\n",
       "    </tr>\n",
       "    <tr>\n",
       "      <th>3806</th>\n",
       "      <td>Apple iPhone XR</td>\n",
       "      <td></td>\n",
       "      <td>5</td>\n",
       "      <td>It was fully unlocked I loved it.</td>\n",
       "    </tr>\n",
       "    <tr>\n",
       "      <th>5279</th>\n",
       "      <td>Apple iPhone 11</td>\n",
       "      <td>Happy</td>\n",
       "      <td>5</td>\n",
       "      <td></td>\n",
       "    </tr>\n",
       "    <tr>\n",
       "      <th>5280</th>\n",
       "      <td>Apple iPhone 11</td>\n",
       "      <td>ESTA SUPER</td>\n",
       "      <td>5</td>\n",
       "      <td></td>\n",
       "    </tr>\n",
       "    <tr>\n",
       "      <th>5329</th>\n",
       "      <td>Apple iPhone 11</td>\n",
       "      <td>otima compra</td>\n",
       "      <td>5</td>\n",
       "      <td></td>\n",
       "    </tr>\n",
       "  </tbody>\n",
       "</table>\n",
       "</div>"
      ],
      "text/plain": [
       "              product                           title  rating  \\\n",
       "1838   Apple iPhone X                 Very good phone       5   \n",
       "1861   Apple iPhone X  The phone is in good condition       4   \n",
       "2087   Apple iPhone X            It works in Japan(!)       5   \n",
       "3400  Apple iPhone XR          Everything we expected       5   \n",
       "3429  Apple iPhone XR                                       5   \n",
       "3471  Apple iPhone XR                                       2   \n",
       "3637  Apple iPhone XR                                       5   \n",
       "3762  Apple iPhone XR                       Excelente       5   \n",
       "3806  Apple iPhone XR                                       5   \n",
       "5279  Apple iPhone 11                           Happy       5   \n",
       "5280  Apple iPhone 11                      ESTA SUPER       5   \n",
       "5329  Apple iPhone 11                    otima compra       5   \n",
       "\n",
       "                                   body  \n",
       "1838                                     \n",
       "1861                                     \n",
       "2087                                     \n",
       "3400                                     \n",
       "3429                       Its like new  \n",
       "3471         Screen Sensibility is poor  \n",
       "3637                                     \n",
       "3762                                     \n",
       "3806  It was fully unlocked I loved it.  \n",
       "5279                                     \n",
       "5280                                     \n",
       "5329                                     "
      ]
     },
     "execution_count": 13,
     "metadata": {},
     "output_type": "execute_result"
    }
   ],
   "source": [
    "rev.fillna('', inplace=True)\n",
    "rev[rev.index.isin(rows_with_NaN.index)]"
   ]
  },
  {
   "cell_type": "markdown",
   "metadata": {},
   "source": [
    "#### Merging columns\n",
    "\n",
    "Frequently, the title of the review contains info as crucial as the body, given that customers sometimes are more explicit about what they like/dislike in the title. Moreover, as seen in the previous step, the customer could only fill the \"title\" field and leave the \"body\" empty or the other way around. Thus, it is convenient to merge both columns into the column named \"review\". Afterward, the original two columns are dropped."
   ]
  },
  {
   "cell_type": "code",
   "execution_count": 14,
   "metadata": {},
   "outputs": [
    {
     "data": {
      "text/html": [
       "<div>\n",
       "<style scoped>\n",
       "    .dataframe tbody tr th:only-of-type {\n",
       "        vertical-align: middle;\n",
       "    }\n",
       "\n",
       "    .dataframe tbody tr th {\n",
       "        vertical-align: top;\n",
       "    }\n",
       "\n",
       "    .dataframe thead th {\n",
       "        text-align: right;\n",
       "    }\n",
       "</style>\n",
       "<table border=\"1\" class=\"dataframe\">\n",
       "  <thead>\n",
       "    <tr style=\"text-align: right;\">\n",
       "      <th></th>\n",
       "      <th>product</th>\n",
       "      <th>rating</th>\n",
       "      <th>review</th>\n",
       "    </tr>\n",
       "  </thead>\n",
       "  <tbody>\n",
       "    <tr>\n",
       "      <th>0</th>\n",
       "      <td>Apple iPhone X</td>\n",
       "      <td>1</td>\n",
       "      <td>THIS PHONE WAS NOT PAYED OFF I purchased a ref...</td>\n",
       "    </tr>\n",
       "    <tr>\n",
       "      <th>1</th>\n",
       "      <td>Apple iPhone X</td>\n",
       "      <td>1</td>\n",
       "      <td>Cracked and does not turn on. The screen was c...</td>\n",
       "    </tr>\n",
       "    <tr>\n",
       "      <th>2</th>\n",
       "      <td>Apple iPhone X</td>\n",
       "      <td>1</td>\n",
       "      <td>Don't buy from this seller. This product is fa...</td>\n",
       "    </tr>\n",
       "    <tr>\n",
       "      <th>3</th>\n",
       "      <td>Apple iPhone X</td>\n",
       "      <td>1</td>\n",
       "      <td>Possibility to change the phone? I bought this...</td>\n",
       "    </tr>\n",
       "    <tr>\n",
       "      <th>4</th>\n",
       "      <td>Apple iPhone X</td>\n",
       "      <td>5</td>\n",
       "      <td>Exceeded Expectations I loved how new this pho...</td>\n",
       "    </tr>\n",
       "  </tbody>\n",
       "</table>\n",
       "</div>"
      ],
      "text/plain": [
       "          product  rating                                             review\n",
       "0  Apple iPhone X       1  THIS PHONE WAS NOT PAYED OFF I purchased a ref...\n",
       "1  Apple iPhone X       1  Cracked and does not turn on. The screen was c...\n",
       "2  Apple iPhone X       1  Don't buy from this seller. This product is fa...\n",
       "3  Apple iPhone X       1  Possibility to change the phone? I bought this...\n",
       "4  Apple iPhone X       5  Exceeded Expectations I loved how new this pho..."
      ]
     },
     "execution_count": 14,
     "metadata": {},
     "output_type": "execute_result"
    }
   ],
   "source": [
    "rev['review'] = rev['title'] + ' ' + rev['body']\n",
    "rev.drop(['title', 'body'], axis=1, inplace = True)\n",
    "rev.head()"
   ]
  },
  {
   "cell_type": "markdown",
   "metadata": {},
   "source": [
    "#### Emojis\n",
    "\n",
    "Some reviews contain emojis (example below); let's remove them to have a cleaner database. Additionally, let set every word to lowercase"
   ]
  },
  {
   "cell_type": "code",
   "execution_count": 15,
   "metadata": {
    "scrolled": true
   },
   "outputs": [
    {
     "data": {
      "text/plain": [
       "'It was what I expect 👌 Now for the people who are reading this message it is important for you to know. if you want a really good offer for a really cheap price go ahead and take the chance Buy this iPhone. There’s no scam is the real deal. now note this you are buying a used iPhone. Second thing that you need to keep in mind Is the battery capacity if you’re looking for a phone you want to try to aim for 95% battery capacity is your best bet when I received mine I got it at 80% battery capacity so that’s also another thing to keep in mind when you’re buying a used phone make sure you’re looking at that battery capacity it’s really important another thing you will receive scratches on the display and the back glass in my opinion this is nothing to cry over just throw a case on it and it should look pretty good. you also want to make sure that your face recognition is on point make sure that everything on the phone is responsive after Unboxing thank you guys so much for taking your time in reading this long message hopefully you bought your product and enjoyed it. Peace ✌️😎'"
      ]
     },
     "execution_count": 15,
     "metadata": {},
     "output_type": "execute_result"
    }
   ],
   "source": [
    "rev['review'][16]"
   ]
  },
  {
   "cell_type": "code",
   "execution_count": 16,
   "metadata": {
    "scrolled": true
   },
   "outputs": [],
   "source": [
    "#Remove emojis and convert every word to lowercase\n",
    "rev['review'] = rev['review'].astype(str).apply(lambda x: x.encode('ascii', 'ignore').decode('ascii'))\n",
    "rev['review'] = rev['review'].str.lower()"
   ]
  },
  {
   "cell_type": "code",
   "execution_count": 17,
   "metadata": {},
   "outputs": [
    {
     "data": {
      "text/plain": [
       "'it was what i expect  now for the people who are reading this message it is important for you to know. if you want a really good offer for a really cheap price go ahead and take the chance buy this iphone. theres no scam is the real deal. now note this you are buying a used iphone. second thing that you need to keep in mind is the battery capacity if youre looking for a phone you want to try to aim for 95% battery capacity is your best bet when i received mine i got it at 80% battery capacity so thats also another thing to keep in mind when youre buying a used phone make sure youre looking at that battery capacity its really important another thing you will receive scratches on the display and the back glass in my opinion this is nothing to cry over just throw a case on it and it should look pretty good. you also want to make sure that your face recognition is on point make sure that everything on the phone is responsive after unboxing thank you guys so much for taking your time in reading this long message hopefully you bought your product and enjoyed it. peace '"
      ]
     },
     "execution_count": 17,
     "metadata": {},
     "output_type": "execute_result"
    }
   ],
   "source": [
    "rev['review'][16]"
   ]
  },
  {
   "cell_type": "markdown",
   "metadata": {},
   "source": [
    "#### Language of the reviews\n",
    "\n",
    "Even though reviews were imported from the U.S. Amazon website, it is expected that some reviews will be in a foreign language. Several libraries could be used to detect the review of the language, although most of them use google translate API, which is paid service for unlimited access. Thus, we'll use the langid library, a standalone Language Identification (LangID) tool."
   ]
  },
  {
   "cell_type": "code",
   "execution_count": 18,
   "metadata": {},
   "outputs": [],
   "source": [
    "#If necessary, install the library:\n",
    "#! pip install langid --user"
   ]
  },
  {
   "cell_type": "code",
   "execution_count": 19,
   "metadata": {
    "scrolled": true
   },
   "outputs": [],
   "source": [
    "import langid"
   ]
  },
  {
   "cell_type": "markdown",
   "metadata": {},
   "source": [
    "Let's create a new column (lang) with the detected language:"
   ]
  },
  {
   "cell_type": "code",
   "execution_count": 20,
   "metadata": {},
   "outputs": [
    {
     "data": {
      "text/html": [
       "<div>\n",
       "<style scoped>\n",
       "    .dataframe tbody tr th:only-of-type {\n",
       "        vertical-align: middle;\n",
       "    }\n",
       "\n",
       "    .dataframe tbody tr th {\n",
       "        vertical-align: top;\n",
       "    }\n",
       "\n",
       "    .dataframe thead th {\n",
       "        text-align: right;\n",
       "    }\n",
       "</style>\n",
       "<table border=\"1\" class=\"dataframe\">\n",
       "  <thead>\n",
       "    <tr style=\"text-align: right;\">\n",
       "      <th></th>\n",
       "      <th>product</th>\n",
       "      <th>rating</th>\n",
       "      <th>review</th>\n",
       "      <th>lang</th>\n",
       "    </tr>\n",
       "  </thead>\n",
       "  <tbody>\n",
       "    <tr>\n",
       "      <th>0</th>\n",
       "      <td>Apple iPhone X</td>\n",
       "      <td>1</td>\n",
       "      <td>this phone was not payed off i purchased a ref...</td>\n",
       "      <td>en</td>\n",
       "    </tr>\n",
       "    <tr>\n",
       "      <th>1</th>\n",
       "      <td>Apple iPhone X</td>\n",
       "      <td>1</td>\n",
       "      <td>cracked and does not turn on. the screen was c...</td>\n",
       "      <td>en</td>\n",
       "    </tr>\n",
       "    <tr>\n",
       "      <th>2</th>\n",
       "      <td>Apple iPhone X</td>\n",
       "      <td>1</td>\n",
       "      <td>don't buy from this seller. this product is fa...</td>\n",
       "      <td>en</td>\n",
       "    </tr>\n",
       "    <tr>\n",
       "      <th>3</th>\n",
       "      <td>Apple iPhone X</td>\n",
       "      <td>1</td>\n",
       "      <td>possibility to change the phone? i bought this...</td>\n",
       "      <td>en</td>\n",
       "    </tr>\n",
       "    <tr>\n",
       "      <th>4</th>\n",
       "      <td>Apple iPhone X</td>\n",
       "      <td>5</td>\n",
       "      <td>exceeded expectations i loved how new this pho...</td>\n",
       "      <td>en</td>\n",
       "    </tr>\n",
       "  </tbody>\n",
       "</table>\n",
       "</div>"
      ],
      "text/plain": [
       "          product  rating                                             review  \\\n",
       "0  Apple iPhone X       1  this phone was not payed off i purchased a ref...   \n",
       "1  Apple iPhone X       1  cracked and does not turn on. the screen was c...   \n",
       "2  Apple iPhone X       1  don't buy from this seller. this product is fa...   \n",
       "3  Apple iPhone X       1  possibility to change the phone? i bought this...   \n",
       "4  Apple iPhone X       5  exceeded expectations i loved how new this pho...   \n",
       "\n",
       "  lang  \n",
       "0   en  \n",
       "1   en  \n",
       "2   en  \n",
       "3   en  \n",
       "4   en  "
      ]
     },
     "execution_count": 20,
     "metadata": {},
     "output_type": "execute_result"
    }
   ],
   "source": [
    "pd.options.mode.chained_assignment = None  # default='warn'\n",
    "rev['lang'] = rev['review'].apply(lambda x:langid.classify(x)[0])\n",
    "rev.head()"
   ]
  },
  {
   "cell_type": "markdown",
   "metadata": {},
   "source": [
    "Let's see how the review's languages are distributed:"
   ]
  },
  {
   "cell_type": "code",
   "execution_count": 21,
   "metadata": {},
   "outputs": [
    {
     "data": {
      "text/plain": [
       "en    0.903459\n",
       "es    0.066714\n",
       "de    0.006354\n",
       "it    0.004589\n",
       "nl    0.003883\n",
       "pt    0.002824\n",
       "fr    0.002824\n",
       "da    0.002118\n",
       "ca    0.001059\n",
       "pl    0.000882\n",
       "ro    0.000882\n",
       "no    0.000529\n",
       "sv    0.000529\n",
       "et    0.000529\n",
       "eu    0.000353\n",
       "eo    0.000353\n",
       "lt    0.000353\n",
       "sl    0.000353\n",
       "mg    0.000176\n",
       "fi    0.000176\n",
       "la    0.000176\n",
       "tl    0.000176\n",
       "vi    0.000176\n",
       "id    0.000176\n",
       "lv    0.000176\n",
       "gl    0.000176\n",
       "Name: lang, dtype: float64"
      ]
     },
     "execution_count": 21,
     "metadata": {},
     "output_type": "execute_result"
    }
   ],
   "source": [
    "rev['lang'].value_counts(normalize=True)"
   ]
  },
  {
   "cell_type": "markdown",
   "metadata": {},
   "source": [
    "It can be seen that most of the reviews (90.3%) are in English, followed by Spanish (6.7%). It would be possible to translate each review, again, with Google services. Nevertheless, since most of the reviews are in English, it is possible to work with those reviews only and still have enough reviews to analyze."
   ]
  },
  {
   "cell_type": "code",
   "execution_count": 22,
   "metadata": {},
   "outputs": [],
   "source": [
    "rev = rev[rev['lang'].isin(['en'])]\n"
   ]
  },
  {
   "cell_type": "code",
   "execution_count": 23,
   "metadata": {},
   "outputs": [
    {
     "data": {
      "text/plain": [
       "en    1.0\n",
       "Name: lang, dtype: float64"
      ]
     },
     "execution_count": 23,
     "metadata": {},
     "output_type": "execute_result"
    }
   ],
   "source": [
    "rev['lang'].value_counts(normalize=True)"
   ]
  },
  {
   "cell_type": "markdown",
   "metadata": {},
   "source": [
    "#### TextBlob\n",
    "\n",
    "TextBlob is a python library used to perform NLP tasks like tokenization, POS-Tagging, lemmatization, N-grams, and sentiment analysis. It is built on top of NLTK but has more features like spelling correction, translation, and language detection (with google services).\n",
    "\n",
    "In this work, it will be employed for spelling correction."
   ]
  },
  {
   "cell_type": "code",
   "execution_count": 24,
   "metadata": {},
   "outputs": [],
   "source": [
    "#If necessary, install the library:\n",
    "#! pip install -U textblob\n",
    "#! python -m textblob.download_corpora"
   ]
  },
  {
   "cell_type": "code",
   "execution_count": 25,
   "metadata": {},
   "outputs": [],
   "source": [
    "from textblob import TextBlob\n"
   ]
  },
  {
   "cell_type": "code",
   "execution_count": 26,
   "metadata": {
    "scrolled": false
   },
   "outputs": [],
   "source": [
    "#Correct the spelling of the reviews (it could take a while with more than 5k reviews)\n",
    "rev['review_corrected'] = rev['review'].apply(lambda x:''.join(TextBlob(x).correct()))\n"
   ]
  },
  {
   "cell_type": "code",
   "execution_count": 27,
   "metadata": {},
   "outputs": [],
   "source": [
    "#Drop the pre-correction 'review' column\n",
    "rev.drop(['review'], axis=1, inplace = True)"
   ]
  },
  {
   "cell_type": "markdown",
   "metadata": {},
   "source": [
    "Let's remove the neutral reviews (rating = 3) and classify reviews as positive (>3) or negative reviews (<3). This column will also serve to train the model for the sentiment analysis predictor."
   ]
  },
  {
   "cell_type": "code",
   "execution_count": 28,
   "metadata": {},
   "outputs": [
    {
     "data": {
      "text/html": [
       "<div>\n",
       "<style scoped>\n",
       "    .dataframe tbody tr th:only-of-type {\n",
       "        vertical-align: middle;\n",
       "    }\n",
       "\n",
       "    .dataframe tbody tr th {\n",
       "        vertical-align: top;\n",
       "    }\n",
       "\n",
       "    .dataframe thead th {\n",
       "        text-align: right;\n",
       "    }\n",
       "</style>\n",
       "<table border=\"1\" class=\"dataframe\">\n",
       "  <thead>\n",
       "    <tr style=\"text-align: right;\">\n",
       "      <th></th>\n",
       "      <th>product</th>\n",
       "      <th>rating</th>\n",
       "      <th>Positive review</th>\n",
       "      <th>review_corrected</th>\n",
       "    </tr>\n",
       "  </thead>\n",
       "  <tbody>\n",
       "    <tr>\n",
       "      <th>0</th>\n",
       "      <td>Apple iPhone X</td>\n",
       "      <td>1</td>\n",
       "      <td>0</td>\n",
       "      <td>this phone was not played off i purchased a re...</td>\n",
       "    </tr>\n",
       "    <tr>\n",
       "      <th>1</th>\n",
       "      <td>Apple iPhone X</td>\n",
       "      <td>1</td>\n",
       "      <td>0</td>\n",
       "      <td>cracked and does not turn on. the screen was c...</td>\n",
       "    </tr>\n",
       "    <tr>\n",
       "      <th>2</th>\n",
       "      <td>Apple iPhone X</td>\n",
       "      <td>1</td>\n",
       "      <td>0</td>\n",
       "      <td>don't buy from this seller. this product is fa...</td>\n",
       "    </tr>\n",
       "    <tr>\n",
       "      <th>3</th>\n",
       "      <td>Apple iPhone X</td>\n",
       "      <td>1</td>\n",
       "      <td>0</td>\n",
       "      <td>possibility to change the phone? i bought this...</td>\n",
       "    </tr>\n",
       "    <tr>\n",
       "      <th>4</th>\n",
       "      <td>Apple iPhone X</td>\n",
       "      <td>5</td>\n",
       "      <td>1</td>\n",
       "      <td>exceeded expectations i loved how new this pho...</td>\n",
       "    </tr>\n",
       "  </tbody>\n",
       "</table>\n",
       "</div>"
      ],
      "text/plain": [
       "          product  rating  Positive review  \\\n",
       "0  Apple iPhone X       1                0   \n",
       "1  Apple iPhone X       1                0   \n",
       "2  Apple iPhone X       1                0   \n",
       "3  Apple iPhone X       1                0   \n",
       "4  Apple iPhone X       5                1   \n",
       "\n",
       "                                    review_corrected  \n",
       "0  this phone was not played off i purchased a re...  \n",
       "1  cracked and does not turn on. the screen was c...  \n",
       "2  don't buy from this seller. this product is fa...  \n",
       "3  possibility to change the phone? i bought this...  \n",
       "4  exceeded expectations i loved how new this pho...  "
      ]
     },
     "execution_count": 28,
     "metadata": {},
     "output_type": "execute_result"
    }
   ],
   "source": [
    "rev = rev[rev['rating'] != 3]\n",
    "rev['Positive review'] = np.where(rev['rating'] > 3, 1, 0)\n",
    "rev.drop(['lang'], axis = 1, inplace =True)\n",
    "rev.head()"
   ]
  },
  {
   "cell_type": "markdown",
   "metadata": {},
   "source": [
    "### Frequent words finder\n",
    "\n",
    "Let's use scikit-learn to try and find the most frequent words found in positive/negative reviews in each product. To do so, let's split the databases by product."
   ]
  },
  {
   "cell_type": "code",
   "execution_count": 29,
   "metadata": {},
   "outputs": [],
   "source": [
    "iX = rev[rev['product']=='Apple iPhone X'].reset_index(drop=True)\n",
    "iXR = rev[rev['product']=='Apple iPhone XR'].reset_index(drop=True)\n",
    "i11 = rev[rev['product']=='Apple iPhone 11'].reset_index(drop=True)\n"
   ]
  },
  {
   "cell_type": "code",
   "execution_count": 30,
   "metadata": {},
   "outputs": [],
   "source": [
    "from sklearn.model_selection import train_test_split\n",
    "\n",
    "# Split data into training and test sets for every product\n",
    "\n",
    "X_train_iX, X_test_iX, y_train_iX, y_test_iX = train_test_split(iX['review_corrected'], \n",
    "                                                    iX['Positive review'], \n",
    "                                                    random_state=0)\n",
    "\n",
    "X_train_iXR, X_test_iXR, y_train_iXR, y_test_iXR = train_test_split(iXR['review_corrected'], \n",
    "                                                    iXR['Positive review'], \n",
    "                                                    random_state=0)\n",
    "\n",
    "X_train_i11, X_test_i11, y_train_i11, y_test_i11 = train_test_split(i11['review_corrected'], \n",
    "                                                    i11['Positive review'], \n",
    "                                                    random_state=0)"
   ]
  },
  {
   "cell_type": "markdown",
   "metadata": {},
   "source": [
    "#### CountVectorizer\n",
    "\n",
    "The bag-of-words approach is a simple and commonly used way to represent text in machine learning, which ignores structure and only counts how often each word occurs. CountVectorizer allows us to use the bag-of-words approach by converting a collection of text documents into a matrix of token counts. \n",
    "\n",
    "First, we instantiate the CountVectorizer and fit it into our training data. Fitting the CountVectorizer consists of the tokenization of the trained data and the building of the vocabulary. It does so by finding all sequences of characters of at least two letters or numbers separated by word boundaries, then converting everything to lowercase (we already lowercased the text) and builds a vocabulary using these tokens. \n",
    "\n",
    "We'll set the minimum word occurrence to 10 (min_df) for it to be taken into account, to remove words that appear in only a few reviews and might not be good predictors. Additionally, we'll set the n-gram range from 2 to 3 to add context to the repeated words. \n",
    "\n",
    "Afterward, we use the transform method to transform the documents in X_train to a document term matrix, giving us the bag-of-word representation of X_train.  "
   ]
  },
  {
   "cell_type": "code",
   "execution_count": 31,
   "metadata": {},
   "outputs": [],
   "source": [
    "from sklearn.feature_extraction.text import CountVectorizer\n",
    "\n",
    "vect_iX = CountVectorizer(min_df=10, ngram_range=(2,3)).fit(X_train_iX)\n",
    "X_train_vectorized_iX = vect_iX.transform(X_train_iX)\n",
    "\n",
    "vect_iXR = CountVectorizer(min_df=10, ngram_range=(2,3)).fit(X_train_iXR)\n",
    "X_train_vectorized_iXR = vect_iXR.transform(X_train_iXR)\n",
    "\n",
    "vect_i11 = CountVectorizer(min_df=10, ngram_range=(2,3)).fit(X_train_i11)\n",
    "X_train_vectorized_i11 = vect_i11.transform(X_train_i11)"
   ]
  },
  {
   "cell_type": "markdown",
   "metadata": {},
   "source": [
    "Let's employ logistic regression to train our model, which works well for high-dimensional sparse data."
   ]
  },
  {
   "cell_type": "code",
   "execution_count": 32,
   "metadata": {},
   "outputs": [
    {
     "data": {
      "text/plain": [
       "LogisticRegression()"
      ]
     },
     "execution_count": 32,
     "metadata": {},
     "output_type": "execute_result"
    }
   ],
   "source": [
    "from sklearn.linear_model import LogisticRegression\n",
    "\n",
    "model_iX = LogisticRegression()\n",
    "model_iX.fit(X_train_vectorized_iX, y_train_iX)\n",
    "\n",
    "model_iXR = LogisticRegression()\n",
    "model_iXR.fit(X_train_vectorized_iXR, y_train_iXR)\n",
    "\n",
    "model_i11 = LogisticRegression()\n",
    "model_i11.fit(X_train_vectorized_i11, y_train_i11)"
   ]
  },
  {
   "cell_type": "markdown",
   "metadata": {},
   "source": [
    "#### Sorting the n-grams\n",
    "\n",
    "Let's get the resulting n-grams (feature_names) in each vocabulary as NumPy arrays, and get their index sorted from most connected to negative reviews to most connected to positive reviews(sorted_coef_index). Lastly, let's merge the results and show the 15 most frequent words for negative and positive reviews of each product in the freq_words dataset."
   ]
  },
  {
   "cell_type": "code",
   "execution_count": 33,
   "metadata": {
    "scrolled": false
   },
   "outputs": [
    {
     "data": {
      "text/html": [
       "<div>\n",
       "<style scoped>\n",
       "    .dataframe tbody tr th:only-of-type {\n",
       "        vertical-align: middle;\n",
       "    }\n",
       "\n",
       "    .dataframe tbody tr th {\n",
       "        vertical-align: top;\n",
       "    }\n",
       "\n",
       "    .dataframe thead th {\n",
       "        text-align: right;\n",
       "    }\n",
       "</style>\n",
       "<table border=\"1\" class=\"dataframe\">\n",
       "  <thead>\n",
       "    <tr style=\"text-align: right;\">\n",
       "      <th></th>\n",
       "      <th>Negative_R iX</th>\n",
       "      <th>Negative_R iXR</th>\n",
       "      <th>Negative_R i11</th>\n",
       "      <th>Positive_R iX</th>\n",
       "      <th>Positive_R iXR</th>\n",
       "      <th>Positive_R i11</th>\n",
       "    </tr>\n",
       "  </thead>\n",
       "  <tbody>\n",
       "    <tr>\n",
       "      <th>0</th>\n",
       "      <td>doesn work</td>\n",
       "      <td>would not</td>\n",
       "      <td>very disappointed</td>\n",
       "      <td>great phone</td>\n",
       "      <td>brand new</td>\n",
       "      <td>love it</td>\n",
       "    </tr>\n",
       "    <tr>\n",
       "      <th>1</th>\n",
       "      <td>very disappointed</td>\n",
       "      <td>the speaker</td>\n",
       "      <td>do not</td>\n",
       "      <td>brand new</td>\n",
       "      <td>great phone</td>\n",
       "      <td>great phone</td>\n",
       "    </tr>\n",
       "    <tr>\n",
       "      <th>2</th>\n",
       "      <td>not good</td>\n",
       "      <td>not unlocked</td>\n",
       "      <td>doesn work</td>\n",
       "      <td>so far</td>\n",
       "      <td>love it</td>\n",
       "      <td>good phone</td>\n",
       "    </tr>\n",
       "    <tr>\n",
       "      <th>3</th>\n",
       "      <td>dont buy</td>\n",
       "      <td>stopped working</td>\n",
       "      <td>the screen</td>\n",
       "      <td>love it</td>\n",
       "      <td>screen protector</td>\n",
       "      <td>with the phone</td>\n",
       "    </tr>\n",
       "    <tr>\n",
       "      <th>4</th>\n",
       "      <td>turn on</td>\n",
       "      <td>lot of</td>\n",
       "      <td>waste of</td>\n",
       "      <td>perfect condition</td>\n",
       "      <td>so far</td>\n",
       "      <td>which is</td>\n",
       "    </tr>\n",
       "    <tr>\n",
       "      <th>5</th>\n",
       "      <td>do not</td>\n",
       "      <td>have to</td>\n",
       "      <td>there was</td>\n",
       "      <td>good good</td>\n",
       "      <td>no scratches</td>\n",
       "      <td>love the</td>\n",
       "    </tr>\n",
       "    <tr>\n",
       "      <th>6</th>\n",
       "      <td>to return</td>\n",
       "      <td>doesn work</td>\n",
       "      <td>to return</td>\n",
       "      <td>no scratches</td>\n",
       "      <td>great buy</td>\n",
       "      <td>is great</td>\n",
       "    </tr>\n",
       "    <tr>\n",
       "      <th>7</th>\n",
       "      <td>not buy</td>\n",
       "      <td>use it</td>\n",
       "      <td>not worth</td>\n",
       "      <td>like new</td>\n",
       "      <td>great product</td>\n",
       "      <td>brand new</td>\n",
       "    </tr>\n",
       "    <tr>\n",
       "      <th>8</th>\n",
       "      <td>your money</td>\n",
       "      <td>to return</td>\n",
       "      <td>is not</td>\n",
       "      <td>good phone</td>\n",
       "      <td>works perfectly</td>\n",
       "      <td>the charge</td>\n",
       "    </tr>\n",
       "    <tr>\n",
       "      <th>9</th>\n",
       "      <td>didn work</td>\n",
       "      <td>was not</td>\n",
       "      <td>didn work</td>\n",
       "      <td>very good</td>\n",
       "      <td>like new</td>\n",
       "      <td>no scratches</td>\n",
       "    </tr>\n",
       "    <tr>\n",
       "      <th>10</th>\n",
       "      <td>will not</td>\n",
       "      <td>it and</td>\n",
       "      <td>to the</td>\n",
       "      <td>the only</td>\n",
       "      <td>happy with</td>\n",
       "      <td>great product</td>\n",
       "    </tr>\n",
       "    <tr>\n",
       "      <th>11</th>\n",
       "      <td>is not</td>\n",
       "      <td>not work</td>\n",
       "      <td>able to</td>\n",
       "      <td>very happy</td>\n",
       "      <td>on the screen</td>\n",
       "      <td>with it</td>\n",
       "    </tr>\n",
       "    <tr>\n",
       "      <th>12</th>\n",
       "      <td>return it</td>\n",
       "      <td>do not</td>\n",
       "      <td>the seller</td>\n",
       "      <td>great product</td>\n",
       "      <td>very good</td>\n",
       "      <td>with my</td>\n",
       "    </tr>\n",
       "    <tr>\n",
       "      <th>13</th>\n",
       "      <td>to turn</td>\n",
       "      <td>the box</td>\n",
       "      <td>will be</td>\n",
       "      <td>good product</td>\n",
       "      <td>good phone</td>\n",
       "      <td>very good</td>\n",
       "    </tr>\n",
       "    <tr>\n",
       "      <th>14</th>\n",
       "      <td>time and</td>\n",
       "      <td>the screen</td>\n",
       "      <td>not work</td>\n",
       "      <td>works well</td>\n",
       "      <td>with the phone</td>\n",
       "      <td>great condition</td>\n",
       "    </tr>\n",
       "  </tbody>\n",
       "</table>\n",
       "</div>"
      ],
      "text/plain": [
       "        Negative_R iX   Negative_R iXR     Negative_R i11      Positive_R iX  \\\n",
       "0          doesn work        would not  very disappointed        great phone   \n",
       "1   very disappointed      the speaker             do not          brand new   \n",
       "2            not good     not unlocked         doesn work             so far   \n",
       "3            dont buy  stopped working         the screen            love it   \n",
       "4             turn on           lot of           waste of  perfect condition   \n",
       "5              do not          have to          there was          good good   \n",
       "6           to return       doesn work          to return       no scratches   \n",
       "7             not buy           use it          not worth           like new   \n",
       "8          your money        to return             is not         good phone   \n",
       "9           didn work          was not          didn work          very good   \n",
       "10           will not           it and             to the           the only   \n",
       "11             is not         not work            able to         very happy   \n",
       "12          return it           do not         the seller      great product   \n",
       "13            to turn          the box            will be       good product   \n",
       "14           time and       the screen           not work         works well   \n",
       "\n",
       "      Positive_R iXR   Positive_R i11  \n",
       "0          brand new          love it  \n",
       "1        great phone      great phone  \n",
       "2            love it       good phone  \n",
       "3   screen protector   with the phone  \n",
       "4             so far         which is  \n",
       "5       no scratches         love the  \n",
       "6          great buy         is great  \n",
       "7      great product        brand new  \n",
       "8    works perfectly       the charge  \n",
       "9           like new     no scratches  \n",
       "10        happy with    great product  \n",
       "11     on the screen          with it  \n",
       "12         very good          with my  \n",
       "13        good phone        very good  \n",
       "14    with the phone  great condition  "
      ]
     },
     "execution_count": 33,
     "metadata": {},
     "output_type": "execute_result"
    }
   ],
   "source": [
    "feature_names_iX = np.array(vect_iX.get_feature_names())\n",
    "sorted_coef_index_iX = model_iX.coef_[0].argsort()\n",
    "\n",
    "feature_names_iXR = np.array(vect_iXR.get_feature_names())\n",
    "sorted_coef_index_iXR = model_iXR.coef_[0].argsort()\n",
    "\n",
    "feature_names_i11 = np.array(vect_i11.get_feature_names())\n",
    "sorted_coef_index_i11 = model_i11.coef_[0].argsort()\n",
    "\n",
    "\n",
    "freq_words = pd.DataFrame({'Negative_R iX': feature_names_iX[sorted_coef_index_iX[:15]], \n",
    "                           'Negative_R iXR': feature_names_iXR[sorted_coef_index_iXR[:15]],\n",
    "                           'Negative_R i11': feature_names_i11[sorted_coef_index_i11[:15]],\n",
    "                           'Positive_R iX': feature_names_iX[sorted_coef_index_iX[:-16:-1]],\n",
    "                           'Positive_R iXR': feature_names_iXR[sorted_coef_index_iXR[:-16:-1]],\n",
    "                           'Positive_R i11': feature_names_i11[sorted_coef_index_i11[:-16:-1]],})\n",
    "freq_words"
   ]
  },
  {
   "cell_type": "markdown",
   "metadata": {},
   "source": [
    "### Discussion\n",
    "\n",
    "#### Negative reviews\n",
    "\n",
    "Some of the trends extracted for further analysis are:\n",
    "\n",
    "* The performance of the phone was the most penalized characteristic, with expressions related to the phone not working, and the decision to return it (\"Doesn't work\", \"stopped working\", \"return it\", \"to return\", etc.) appearing throughout the reviews of the three products.\n",
    "\n",
    "* There seemed to be screen problems with the iPhone XR and iPhone 11.\n",
    "\n",
    "* The iPhone XR appeared to have additional problems with the speaker and the phone not being fully unlocked.\n",
    "\n",
    "#### Positive reviews\n",
    "\n",
    "Some of the trends extracted for further analysis are:\n",
    "\n",
    "* The external look of the phone is very important for the customer, with expressions like  \"no scratches\" and \"like new\" constantly appearing throughout the reviews of every product.\n",
    "\n",
    "* Naturally, the performance was also important for customers (\"Works well\", \"works perfectly\", etc. \n",
    "\n",
    "* Reviews might be short-term oriented, with frequent expressions like \"so far\" indicating that the review could've been written with a short amount of product usage."
   ]
  },
  {
   "cell_type": "markdown",
   "metadata": {},
   "source": [
    "### Sentiment analysis\n",
    "\n",
    "Lastly, let's train our model with the entire dataset and create a sentiment analysis tool."
   ]
  },
  {
   "cell_type": "code",
   "execution_count": 34,
   "metadata": {},
   "outputs": [
    {
     "name": "stdout",
     "output_type": "stream",
     "text": [
      "AUC:  0.8358538703723808\n",
      "Accuracy:  0.8959537572254336\n"
     ]
    }
   ],
   "source": [
    "from sklearn.metrics import roc_auc_score\n",
    "from sklearn.metrics import accuracy_score\n",
    "\n",
    "X_train, X_test, y_train, y_test = train_test_split(rev['review_corrected'], \n",
    "                                                    rev['Positive review'], \n",
    "                                                    random_state=0)\n",
    "vect = CountVectorizer(min_df=10, ngram_range=(2,3)).fit(X_train)\n",
    "X_train_vectorized = vect.transform(X_train)\n",
    "model = LogisticRegression()\n",
    "model.fit(X_train_vectorized, y_train)\n",
    "predictions = model.predict(vect.transform(X_test))\n",
    "\n",
    "print('AUC: ', roc_auc_score(y_test, predictions))\n",
    "print('Accuracy: ', accuracy_score(y_test, predictions))"
   ]
  },
  {
   "cell_type": "markdown",
   "metadata": {},
   "source": [
    "It has an AUC score of 0.84 and an accuracy of 0.90, which are good values to predict the sentiment of a review while avoiding overfitting.\n",
    "\n",
    "Lastly, let's test the model with two sentences with the same words but in a different order:"
   ]
  },
  {
   "cell_type": "code",
   "execution_count": 35,
   "metadata": {},
   "outputs": [
    {
     "name": "stdout",
     "output_type": "stream",
     "text": [
      "[1 0]\n"
     ]
    }
   ],
   "source": [
    "print(model.predict(vect.transform(['not an issue, phone is working',\n",
    "                                    'an issue, phone is not working'])))"
   ]
  },
  {
   "cell_type": "markdown",
   "metadata": {},
   "source": [
    "Even though the same words are employed in both sentences, they were correctly identified as positive and negative reviews, respectively. Thus, the model can evaluate context and differentiate sentiment."
   ]
  },
  {
   "cell_type": "markdown",
   "metadata": {},
   "source": [
    "## Conclusions\n",
    "\n",
    "In this work, the analysis of renewed iPhones reviews was done. To do so, various data analysis, NLP, and Machine Learning libraries were employed to:\n",
    "\n",
    "* Clean, detect and filter language, and correct spelling of the datasets.\n",
    "* Train a model and obtain the frequent words found in positive and negative reviews, employing the bag-of-words approach.\n",
    "* Develop a sentiment analysis predictor."
   ]
  },
  {
   "cell_type": "code",
   "execution_count": null,
   "metadata": {},
   "outputs": [],
   "source": []
  }
 ],
 "metadata": {
  "kernelspec": {
   "display_name": "Python 3",
   "language": "python",
   "name": "python3"
  },
  "language_info": {
   "codemirror_mode": {
    "name": "ipython",
    "version": 3
   },
   "file_extension": ".py",
   "mimetype": "text/x-python",
   "name": "python",
   "nbconvert_exporter": "python",
   "pygments_lexer": "ipython3",
   "version": "3.8.5"
  }
 },
 "nbformat": 4,
 "nbformat_minor": 4
}
